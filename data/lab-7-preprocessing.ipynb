{
 "cells": [
  {
   "cell_type": "code",
   "execution_count": 1,
   "metadata": {
    "collapsed": true
   },
   "outputs": [],
   "source": [
    "import pandas as pd"
   ]
  },
  {
   "cell_type": "code",
   "execution_count": 24,
   "metadata": {},
   "outputs": [
    {
     "data": {
      "text/html": [
       "<div>\n",
       "<table border=\"1\" class=\"dataframe\">\n",
       "  <thead>\n",
       "    <tr style=\"text-align: right;\">\n",
       "      <th></th>\n",
       "      <th>Time</th>\n",
       "      <th>Country Name</th>\n",
       "      <th>Country_Code</th>\n",
       "      <th>Female population 00-04 [SP.POP.0004.FE]</th>\n",
       "      <th>Female population 10-14 [SP.POP.1014.FE]</th>\n",
       "      <th>Female population 20-24 [SP.POP.2024.FE]</th>\n",
       "      <th>Male population 75-79 [SP.POP.7579.MA]</th>\n",
       "      <th>Male population 65-69 [SP.POP.6569.MA]</th>\n",
       "      <th>Male population 55-59 [SP.POP.5559.MA]</th>\n",
       "      <th>Male population 45-49 [SP.POP.4549.MA]</th>\n",
       "      <th>...</th>\n",
       "      <th>Female population 35-39 [SP.POP.3539.FE]</th>\n",
       "      <th>Female population 45-49 [SP.POP.4549.FE]</th>\n",
       "      <th>Female population 75-79 [SP.POP.7579.FE]</th>\n",
       "      <th>Female population 65-69 [SP.POP.6569.FE]</th>\n",
       "      <th>Female population 55-59 [SP.POP.5559.FE]</th>\n",
       "      <th>Female population 70-74 [SP.POP.7074.FE]</th>\n",
       "      <th>Female population 60-64 [SP.POP.6064.FE]</th>\n",
       "      <th>Female population 50-54 [SP.POP.5054.FE]</th>\n",
       "      <th>Female population 40-44 [SP.POP.4044.FE]</th>\n",
       "      <th>Female population 30-34 [SP.POP.3034.FE]</th>\n",
       "    </tr>\n",
       "  </thead>\n",
       "  <tbody>\n",
       "    <tr>\n",
       "      <th>0</th>\n",
       "      <td>2015</td>\n",
       "      <td>New Zealand</td>\n",
       "      <td>NZL</td>\n",
       "      <td>152636</td>\n",
       "      <td>146321</td>\n",
       "      <td>161996</td>\n",
       "      <td>55054</td>\n",
       "      <td>114350</td>\n",
       "      <td>140978</td>\n",
       "      <td>148437</td>\n",
       "      <td>...</td>\n",
       "      <td>139771</td>\n",
       "      <td>161769</td>\n",
       "      <td>62816</td>\n",
       "      <td>119546</td>\n",
       "      <td>149872</td>\n",
       "      <td>86341</td>\n",
       "      <td>129177</td>\n",
       "      <td>172790</td>\n",
       "      <td>169666</td>\n",
       "      <td>146260</td>\n",
       "    </tr>\n",
       "    <tr>\n",
       "      <th>1</th>\n",
       "      <td>2015</td>\n",
       "      <td>Afghanistan</td>\n",
       "      <td>AFG</td>\n",
       "      <td>2411754</td>\n",
       "      <td>2173593</td>\n",
       "      <td>1465672</td>\n",
       "      <td>56811</td>\n",
       "      <td>174910</td>\n",
       "      <td>329412</td>\n",
       "      <td>544017</td>\n",
       "      <td>...</td>\n",
       "      <td>788488</td>\n",
       "      <td>496113</td>\n",
       "      <td>67306</td>\n",
       "      <td>201471</td>\n",
       "      <td>316760</td>\n",
       "      <td>118175</td>\n",
       "      <td>248451</td>\n",
       "      <td>395540</td>\n",
       "      <td>619577</td>\n",
       "      <td>984233</td>\n",
       "    </tr>\n",
       "  </tbody>\n",
       "</table>\n",
       "<p>2 rows × 37 columns</p>\n",
       "</div>"
      ],
      "text/plain": [
       "   Time Country Name Country_Code  Female population 00-04 [SP.POP.0004.FE]  \\\n",
       "0  2015  New Zealand          NZL                                    152636   \n",
       "1  2015  Afghanistan          AFG                                   2411754   \n",
       "\n",
       "   Female population 10-14 [SP.POP.1014.FE]  \\\n",
       "0                                    146321   \n",
       "1                                   2173593   \n",
       "\n",
       "   Female population 20-24 [SP.POP.2024.FE]  \\\n",
       "0                                    161996   \n",
       "1                                   1465672   \n",
       "\n",
       "   Male population 75-79 [SP.POP.7579.MA]  \\\n",
       "0                                   55054   \n",
       "1                                   56811   \n",
       "\n",
       "   Male population 65-69 [SP.POP.6569.MA]  \\\n",
       "0                                  114350   \n",
       "1                                  174910   \n",
       "\n",
       "   Male population 55-59 [SP.POP.5559.MA]  \\\n",
       "0                                  140978   \n",
       "1                                  329412   \n",
       "\n",
       "   Male population 45-49 [SP.POP.4549.MA]  \\\n",
       "0                                  148437   \n",
       "1                                  544017   \n",
       "\n",
       "                     ...                     \\\n",
       "0                    ...                      \n",
       "1                    ...                      \n",
       "\n",
       "   Female population 35-39 [SP.POP.3539.FE]  \\\n",
       "0                                    139771   \n",
       "1                                    788488   \n",
       "\n",
       "   Female population 45-49 [SP.POP.4549.FE]  \\\n",
       "0                                    161769   \n",
       "1                                    496113   \n",
       "\n",
       "   Female population 75-79 [SP.POP.7579.FE]  \\\n",
       "0                                     62816   \n",
       "1                                     67306   \n",
       "\n",
       "   Female population 65-69 [SP.POP.6569.FE]  \\\n",
       "0                                    119546   \n",
       "1                                    201471   \n",
       "\n",
       "   Female population 55-59 [SP.POP.5559.FE]  \\\n",
       "0                                    149872   \n",
       "1                                    316760   \n",
       "\n",
       "   Female population 70-74 [SP.POP.7074.FE]  \\\n",
       "0                                     86341   \n",
       "1                                    118175   \n",
       "\n",
       "   Female population 60-64 [SP.POP.6064.FE]  \\\n",
       "0                                    129177   \n",
       "1                                    248451   \n",
       "\n",
       "   Female population 50-54 [SP.POP.5054.FE]  \\\n",
       "0                                    172790   \n",
       "1                                    395540   \n",
       "\n",
       "   Female population 40-44 [SP.POP.4044.FE]  \\\n",
       "0                                    169666   \n",
       "1                                    619577   \n",
       "\n",
       "   Female population 30-34 [SP.POP.3034.FE]  \n",
       "0                                    146260  \n",
       "1                                    984233  \n",
       "\n",
       "[2 rows x 37 columns]"
      ]
     },
     "execution_count": 24,
     "metadata": {},
     "output_type": "execute_result"
    }
   ],
   "source": [
    "country_f = 'country-populations-2015.csv'\n",
    "country_df = pd.read_csv(country_f, encoding='utf-8')\n",
    "\n",
    "country_df.head(2)"
   ]
  },
  {
   "cell_type": "code",
   "execution_count": 25,
   "metadata": {},
   "outputs": [
    {
     "name": "stdout",
     "output_type": "stream",
     "text": [
      "['Time', 'Country Name', 'Country_Code', 'Female population 00-04 [SP.POP.0004.FE]', 'Female population 10-14 [SP.POP.1014.FE]', 'Female population 20-24 [SP.POP.2024.FE]', 'Male population 75-79 [SP.POP.7579.MA]', 'Male population 65-69 [SP.POP.6569.MA]', 'Male population 55-59 [SP.POP.5559.MA]', 'Male population 45-49 [SP.POP.4549.MA]', 'Male population 35-39 [SP.POP.3539.MA]', 'Male population 25-29 [SP.POP.2529.MA]', 'Male population 15-19 [SP.POP.1519.MA]', 'Male population 05-09 [SP.POP.0509.MA]', 'Female population 80+ [SP.POP.80UP.FE]', 'Male population 00-04 [SP.POP.0004.MA]', 'Male population 10-14 [SP.POP.1014.MA]', 'Male population 20-24 [SP.POP.2024.MA]', 'Male population 30-34 [SP.POP.3034.MA]', 'Male population 40-44 [SP.POP.4044.MA]', 'Male population 50-54 [SP.POP.5054.MA]', 'Male population 60-64 [SP.POP.6064.MA]', 'Male population 70-74 [SP.POP.7074.MA]', 'Male population 80+ [SP.POP.80UP.MA]', 'Female population 05-09 [SP.POP.0509.FE]', 'Female population 15-19 [SP.POP.1519.FE]', 'Female population 25-29 [SP.POP.2529.FE]', 'Female population 35-39 [SP.POP.3539.FE]', 'Female population 45-49 [SP.POP.4549.FE]', 'Female population 75-79 [SP.POP.7579.FE]', 'Female population 65-69 [SP.POP.6569.FE]', 'Female population 55-59 [SP.POP.5559.FE]', 'Female population 70-74 [SP.POP.7074.FE]', 'Female population 60-64 [SP.POP.6064.FE]', 'Female population 50-54 [SP.POP.5054.FE]', 'Female population 40-44 [SP.POP.4044.FE]', 'Female population 30-34 [SP.POP.3034.FE]']\n"
     ]
    }
   ],
   "source": [
    "cols_unform = country_df.columns.tolist()\n",
    "\n",
    "print (cols_unform)"
   ]
  },
  {
   "cell_type": "code",
   "execution_count": 26,
   "metadata": {},
   "outputs": [
    {
     "name": "stdout",
     "output_type": "stream",
     "text": [
      "['Time', 'Country Name', 'Country_Code', 'Female population 00-04', 'Female population 10-14', 'Female population 20-24', 'Male population 75-79', 'Male population 65-69', 'Male population 55-59', 'Male population 45-49', 'Male population 35-39', 'Male population 25-29', 'Male population 15-19', 'Male population 05-09', 'Female population 80+', 'Male population 00-04', 'Male population 10-14', 'Male population 20-24', 'Male population 30-34', 'Male population 40-44', 'Male population 50-54', 'Male population 60-64', 'Male population 70-74', 'Male population 80+', 'Female population 05-09', 'Female population 15-19', 'Female population 25-29', 'Female population 35-39', 'Female population 45-49', 'Female population 75-79', 'Female population 65-69', 'Female population 55-59', 'Female population 70-74', 'Female population 60-64', 'Female population 50-54', 'Female population 40-44', 'Female population 30-34']\n"
     ]
    }
   ],
   "source": [
    "cols_form = [x.split(' [')[0] for x in cols_unform]\n",
    "\n",
    "print (cols_form)"
   ]
  },
  {
   "cell_type": "code",
   "execution_count": 27,
   "metadata": {},
   "outputs": [
    {
     "name": "stdout",
     "output_type": "stream",
     "text": [
      "['00-04', '05-09', '10-14', '15-19', '20-24', '25-29', '30-34', '35-39', '40-44', '45-49', '50-54', '55-59', '60-64', '65-69', '70-74', '75-79', '80+']\n"
     ]
    }
   ],
   "source": [
    "country_df.columns = cols_form\n",
    "\n",
    "\n",
    "col_groups = [x.split()[2] for x in cols_form if x.startswith('Male')]\n",
    "col_groups.sort()\n",
    "\n",
    "print (col_groups)"
   ]
  },
  {
   "cell_type": "code",
   "execution_count": 43,
   "metadata": {
    "collapsed": true
   },
   "outputs": [],
   "source": [
    "cols_total = ['Country Name', 'Country_Code']\n",
    "\n",
    "\n",
    "for group in col_groups:\n",
    "    col_male = 'Male population {}'.format(group)\n",
    "    col_female = 'Female population {}'.format(group)\n",
    "    col_total = 'Total population {}'.format(group)\n",
    "    \n",
    "    cols_total.append(col_total)\n",
    "    country_df[col_total] = country_df[col_male] + country_df[col_female]"
   ]
  },
  {
   "cell_type": "code",
   "execution_count": 7,
   "metadata": {},
   "outputs": [
    {
     "data": {
      "text/plain": [
       "Index(['Time', 'Country Name', 'Country_Code', 'Female population 00-04',\n",
       "       'Female population 10-14', 'Female population 20-24',\n",
       "       'Male population 75-79', 'Male population 65-69',\n",
       "       'Male population 55-59', 'Male population 45-49',\n",
       "       'Male population 35-39', 'Male population 25-29',\n",
       "       'Male population 15-19', 'Male population 05-09',\n",
       "       'Female population 80+', 'Male population 00-04',\n",
       "       'Male population 10-14', 'Male population 20-24',\n",
       "       'Male population 30-34', 'Male population 40-44',\n",
       "       'Male population 50-54', 'Male population 60-64',\n",
       "       'Male population 70-74', 'Male population 80+',\n",
       "       'Female population 05-09', 'Female population 15-19',\n",
       "       'Female population 25-29', 'Female population 35-39',\n",
       "       'Female population 45-49', 'Female population 75-79',\n",
       "       'Female population 65-69', 'Female population 55-59',\n",
       "       'Female population 70-74', 'Female population 60-64',\n",
       "       'Female population 50-54', 'Female population 40-44',\n",
       "       'Female population 30-34', 'Total population 00-04',\n",
       "       'Total population 05-09', 'Total population 10-14',\n",
       "       'Total population 15-19', 'Total population 20-24',\n",
       "       'Total population 25-29', 'Total population 30-34',\n",
       "       'Total population 35-39', 'Total population 40-44',\n",
       "       'Total population 45-49', 'Total population 50-54',\n",
       "       'Total population 55-59', 'Total population 60-64',\n",
       "       'Total population 65-69', 'Total population 70-74',\n",
       "       'Total population 75-79', 'Total population 80+'],\n",
       "      dtype='object')"
      ]
     },
     "execution_count": 7,
     "metadata": {},
     "output_type": "execute_result"
    }
   ],
   "source": [
    "country_df.columns"
   ]
  },
  {
   "cell_type": "code",
   "execution_count": 56,
   "metadata": {
    "collapsed": true
   },
   "outputs": [],
   "source": [
    "cols_perc = ['Country Name', 'Country_Code']\n",
    "\n",
    "country_df['Total Population All'] = country_df[cols_total[2:]].sum(axis=1)\n",
    "\n",
    "for group in col_groups:\n",
    "    col_male = 'Male population {}'.format(group)\n",
    "    col_female = 'Female population {}'.format(group)\n",
    "    col_total = 'Total population perc {}'.format(group)\n",
    "    cols_perc.append(col_total)\n",
    "    \n",
    "    \n",
    "    country_df[col_total] = ((country_df[col_male] + country_df[col_female]) / country_df['Total Population All']) * 100"
   ]
  },
  {
   "cell_type": "code",
   "execution_count": 57,
   "metadata": {},
   "outputs": [],
   "source": [
    "perc_df = country_df[cols_perc]\n",
    "\n",
    "for i, col in enumerate(cols_perc):\n",
    "    group = col.split()[-1]\n",
    "    cols_perc[i] = group\n",
    "\n",
    "perc_df.columns = cols_perc\n",
    "perc_df.to_csv('population-percentages.csv', index=False)"
   ]
  },
  {
   "cell_type": "code",
   "execution_count": 58,
   "metadata": {},
   "outputs": [
    {
     "name": "stdout",
     "output_type": "stream",
     "text": [
      "['00-04', '05-09', '10-14', '15-19', '20-24', '25-29', '30-34', '35-39', '40-44', '45-49', '50-54', '55-59', '60-64', '65-69', '70-74', '75-79', '80+']\n"
     ]
    }
   ],
   "source": [
    "print (cols_perc[2:])"
   ]
  },
  {
   "cell_type": "code",
   "execution_count": 44,
   "metadata": {},
   "outputs": [
    {
     "data": {
      "text/html": [
       "<div>\n",
       "<table border=\"1\" class=\"dataframe\">\n",
       "  <thead>\n",
       "    <tr style=\"text-align: right;\">\n",
       "      <th></th>\n",
       "      <th>Country Name</th>\n",
       "      <th>Country_Code</th>\n",
       "      <th>Total population 00-04</th>\n",
       "      <th>Total population 05-09</th>\n",
       "      <th>Total population 10-14</th>\n",
       "      <th>Total population 15-19</th>\n",
       "      <th>Total population 20-24</th>\n",
       "      <th>Total population 25-29</th>\n",
       "      <th>Total population 30-34</th>\n",
       "      <th>Total population 35-39</th>\n",
       "      <th>Total population 40-44</th>\n",
       "      <th>Total population 45-49</th>\n",
       "      <th>Total population 50-54</th>\n",
       "      <th>Total population 55-59</th>\n",
       "      <th>Total population 60-64</th>\n",
       "      <th>Total population 65-69</th>\n",
       "      <th>Total population 70-74</th>\n",
       "      <th>Total population 75-79</th>\n",
       "      <th>Total population 80+</th>\n",
       "    </tr>\n",
       "  </thead>\n",
       "  <tbody>\n",
       "    <tr>\n",
       "      <th>0</th>\n",
       "      <td>New Zealand</td>\n",
       "      <td>NZL</td>\n",
       "      <td>313365</td>\n",
       "      <td>315316</td>\n",
       "      <td>299968</td>\n",
       "      <td>312893</td>\n",
       "      <td>327156</td>\n",
       "      <td>288381</td>\n",
       "      <td>281144</td>\n",
       "      <td>266948</td>\n",
       "      <td>322052</td>\n",
       "      <td>310206</td>\n",
       "      <td>332713</td>\n",
       "      <td>290850</td>\n",
       "      <td>251721</td>\n",
       "      <td>233896</td>\n",
       "      <td>166985</td>\n",
       "      <td>117870</td>\n",
       "      <td>164239</td>\n",
       "    </tr>\n",
       "    <tr>\n",
       "      <th>1</th>\n",
       "      <td>Afghanistan</td>\n",
       "      <td>AFG</td>\n",
       "      <td>4950250</td>\n",
       "      <td>4903273</td>\n",
       "      <td>4471809</td>\n",
       "      <td>3833084</td>\n",
       "      <td>3051662</td>\n",
       "      <td>2460206</td>\n",
       "      <td>2061977</td>\n",
       "      <td>1672963</td>\n",
       "      <td>1312233</td>\n",
       "      <td>1040130</td>\n",
       "      <td>823146</td>\n",
       "      <td>646172</td>\n",
       "      <td>496547</td>\n",
       "      <td>376381</td>\n",
       "      <td>225865</td>\n",
       "      <td>124117</td>\n",
       "      <td>76747</td>\n",
       "    </tr>\n",
       "    <tr>\n",
       "      <th>2</th>\n",
       "      <td>Antigua and Barbuda</td>\n",
       "      <td>ATG</td>\n",
       "      <td>7280</td>\n",
       "      <td>7300</td>\n",
       "      <td>7620</td>\n",
       "      <td>7926</td>\n",
       "      <td>7765</td>\n",
       "      <td>6815</td>\n",
       "      <td>6340</td>\n",
       "      <td>5303</td>\n",
       "      <td>6923</td>\n",
       "      <td>8183</td>\n",
       "      <td>5920</td>\n",
       "      <td>4571</td>\n",
       "      <td>3294</td>\n",
       "      <td>1951</td>\n",
       "      <td>1818</td>\n",
       "      <td>1335</td>\n",
       "      <td>1474</td>\n",
       "    </tr>\n",
       "    <tr>\n",
       "      <th>3</th>\n",
       "      <td>Armenia</td>\n",
       "      <td>ARM</td>\n",
       "      <td>207244</td>\n",
       "      <td>188829</td>\n",
       "      <td>158700</td>\n",
       "      <td>178800</td>\n",
       "      <td>257221</td>\n",
       "      <td>282907</td>\n",
       "      <td>253092</td>\n",
       "      <td>202068</td>\n",
       "      <td>170450</td>\n",
       "      <td>170675</td>\n",
       "      <td>234850</td>\n",
       "      <td>219792</td>\n",
       "      <td>166387</td>\n",
       "      <td>95827</td>\n",
       "      <td>51173</td>\n",
       "      <td>92663</td>\n",
       "      <td>87034</td>\n",
       "    </tr>\n",
       "    <tr>\n",
       "      <th>4</th>\n",
       "      <td>Austria</td>\n",
       "      <td>AUT</td>\n",
       "      <td>408295</td>\n",
       "      <td>400998</td>\n",
       "      <td>418016</td>\n",
       "      <td>465533</td>\n",
       "      <td>547022</td>\n",
       "      <td>561174</td>\n",
       "      <td>582356</td>\n",
       "      <td>545935</td>\n",
       "      <td>612608</td>\n",
       "      <td>719122</td>\n",
       "      <td>697318</td>\n",
       "      <td>593623</td>\n",
       "      <td>465885</td>\n",
       "      <td>435426</td>\n",
       "      <td>432162</td>\n",
       "      <td>316238</td>\n",
       "      <td>436658</td>\n",
       "    </tr>\n",
       "  </tbody>\n",
       "</table>\n",
       "</div>"
      ],
      "text/plain": [
       "          Country Name Country_Code  Total population 00-04  \\\n",
       "0          New Zealand          NZL                  313365   \n",
       "1          Afghanistan          AFG                 4950250   \n",
       "2  Antigua and Barbuda          ATG                    7280   \n",
       "3              Armenia          ARM                  207244   \n",
       "4              Austria          AUT                  408295   \n",
       "\n",
       "   Total population 05-09  Total population 10-14  Total population 15-19  \\\n",
       "0                  315316                  299968                  312893   \n",
       "1                 4903273                 4471809                 3833084   \n",
       "2                    7300                    7620                    7926   \n",
       "3                  188829                  158700                  178800   \n",
       "4                  400998                  418016                  465533   \n",
       "\n",
       "   Total population 20-24  Total population 25-29  Total population 30-34  \\\n",
       "0                  327156                  288381                  281144   \n",
       "1                 3051662                 2460206                 2061977   \n",
       "2                    7765                    6815                    6340   \n",
       "3                  257221                  282907                  253092   \n",
       "4                  547022                  561174                  582356   \n",
       "\n",
       "   Total population 35-39  Total population 40-44  Total population 45-49  \\\n",
       "0                  266948                  322052                  310206   \n",
       "1                 1672963                 1312233                 1040130   \n",
       "2                    5303                    6923                    8183   \n",
       "3                  202068                  170450                  170675   \n",
       "4                  545935                  612608                  719122   \n",
       "\n",
       "   Total population 50-54  Total population 55-59  Total population 60-64  \\\n",
       "0                  332713                  290850                  251721   \n",
       "1                  823146                  646172                  496547   \n",
       "2                    5920                    4571                    3294   \n",
       "3                  234850                  219792                  166387   \n",
       "4                  697318                  593623                  465885   \n",
       "\n",
       "   Total population 65-69  Total population 70-74  Total population 75-79  \\\n",
       "0                  233896                  166985                  117870   \n",
       "1                  376381                  225865                  124117   \n",
       "2                    1951                    1818                    1335   \n",
       "3                   95827                   51173                   92663   \n",
       "4                  435426                  432162                  316238   \n",
       "\n",
       "   Total population 80+  \n",
       "0                164239  \n",
       "1                 76747  \n",
       "2                  1474  \n",
       "3                 87034  \n",
       "4                436658  "
      ]
     },
     "execution_count": 44,
     "metadata": {},
     "output_type": "execute_result"
    }
   ],
   "source": [
    "final_df = country_df[cols_total]\n",
    "final_df.head()"
   ]
  },
  {
   "cell_type": "code",
   "execution_count": 45,
   "metadata": {},
   "outputs": [],
   "source": [
    "final_df.to_csv('raw-populations.csv', index=False)"
   ]
  },
  {
   "cell_type": "code",
   "execution_count": 53,
   "metadata": {},
   "outputs": [
    {
     "name": "stdout",
     "output_type": "stream",
     "text": [
      "['Country', 'Name']\n",
      "['Country_Code']\n",
      "['Total', 'population', 'perc', '00-04']\n",
      "['Total', 'population', 'perc', '05-09']\n",
      "['Total', 'population', 'perc', '10-14']\n",
      "['Total', 'population', 'perc', '15-19']\n",
      "['Total', 'population', 'perc', '20-24']\n",
      "['Total', 'population', 'perc', '25-29']\n",
      "['Total', 'population', 'perc', '30-34']\n",
      "['Total', 'population', 'perc', '35-39']\n",
      "['Total', 'population', 'perc', '40-44']\n",
      "['Total', 'population', 'perc', '45-49']\n",
      "['Total', 'population', 'perc', '50-54']\n",
      "['Total', 'population', 'perc', '55-59']\n",
      "['Total', 'population', 'perc', '60-64']\n",
      "['Total', 'population', 'perc', '65-69']\n",
      "['Total', 'population', 'perc', '70-74']\n",
      "['Total', 'population', 'perc', '75-79']\n",
      "['Total', 'population', 'perc', '80+']\n"
     ]
    }
   ],
   "source": [
    "for x in cols_perc:\n",
    "    print (x.split(' '))"
   ]
  },
  {
   "cell_type": "code",
   "execution_count": null,
   "metadata": {
    "collapsed": true
   },
   "outputs": [],
   "source": []
  }
 ],
 "metadata": {
  "kernelspec": {
   "display_name": "Python 3",
   "language": "python",
   "name": "python3"
  },
  "language_info": {
   "codemirror_mode": {
    "name": "ipython",
    "version": 3
   },
   "file_extension": ".py",
   "mimetype": "text/x-python",
   "name": "python",
   "nbconvert_exporter": "python",
   "pygments_lexer": "ipython3",
   "version": "3.6.1"
  }
 },
 "nbformat": 4,
 "nbformat_minor": 1
}
